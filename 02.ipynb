{
 "cells": [
  {
   "cell_type": "code",
   "execution_count": 1,
   "metadata": {},
   "outputs": [],
   "source": [
    "import numpy as np\n",
    "import pandas as pd\n",
    "\n",
    "import tensorflow as tf\n",
    "from tensorflow.keras.models import *\n",
    "from tensorflow.keras.layers import *\n",
    "from tensorflow.keras.callbacks import ModelCheckpoint, ReduceLROnPlateau, EarlyStopping\n",
    "from tensorflow.keras.optimizers import *\n",
    "import tensorflow.keras.backend as K\n",
    "\n",
    "from sklearn.preprocessing import MinMaxScaler\n",
    "from sklearn.model_selection import train_test_split"
   ]
  },
  {
   "cell_type": "code",
   "execution_count": 2,
   "metadata": {},
   "outputs": [],
   "source": [
    "def series_to_supervised(data, n_in=1, n_out=1, dropnan=False):\n",
    "  n_vars = 1 if type(data) is list else data.shape[1]\n",
    "  df = pd.DataFrame(data)\n",
    "  cols, names = list(), list()\n",
    "  # input sequence (t-n, ... t-1)\n",
    "  for i in range(n_in, 0, -1):\n",
    "    cols.append(df.shift(i))\n",
    "    names += [('var%d(t-%d)' % (j+1, i)) for j in range(n_vars)]\n",
    "  # forecast sequence (t, t+1, ... t+n)\n",
    "  for i in range(0, n_out):\n",
    "    cols.append(df.shift(-i))\n",
    "    if i == 0:\n",
    "      names += [('var%d(t)' % (j+1)) for j in range(n_vars)]\n",
    "    else:\n",
    "      names += [('var%d(t+%d)' % (j+1, i)) for j in range(n_vars)]\n",
    "  # put it all together\n",
    "  agg = pd.concat(cols, axis=1)\n",
    "  agg.columns = names\n",
    "  # drop rows with NaN values\n",
    "  if dropnan:\n",
    "    agg.dropna(inplace=True)\n",
    "  return pd.DataFrame(agg.astype('float32'))"
   ]
  },
  {
   "cell_type": "code",
   "execution_count": 3,
   "metadata": {},
   "outputs": [],
   "source": [
    "def train_valid_test_split(data, hours_of_history, hours_to_predict, parameters_included):\n",
    "  data_train_valid = data.iloc[:52608,:] # the first 6 years for training/validation\n",
    "  data_test = data.iloc[52608:,:] # the last 1 years for test evaluation\n",
    "  data_train_valid.dropna(inplace=True)\n",
    "  data_test.dropna(inplace=True)\n",
    "\n",
    "  data_valid, data_train = train_test_split(data_train_valid, test_size=0.4, shuffle= False) # the last 60% data in the first 6 years used for training and the first 40% used for validation.\n",
    "\n",
    "  return data_train.values, data_valid.values, data_test.values"
   ]
  },
  {
   "cell_type": "code",
   "execution_count": 4,
   "metadata": {},
   "outputs": [],
   "source": [
    "def prepare_data(station_id, hours_of_history, hours_to_predict, parameters_included):\n",
    "\n",
    "  # data = pd.read_csv('./data/'+str(station_id)+'_data.csv').iloc[:,1:]\n",
    "  url=\"https://raw.githubusercontent.com/uihilab/HydroLSTM/main/data/521_data.csv\"\n",
    "  data = pd.read_csv(url).iloc[:,1:]\n",
    "\n",
    "  # simple min-max scaling. Other pretreatments such as normalization also work.\n",
    "  scaler = MinMaxScaler()\n",
    "  scaler.fit(data.iloc[:52608,:]) # min-max scaling without the test dataset.\n",
    "  q_max = np.max(data.iloc[:52608,2]) # manually check the maximum and minimum discharge\n",
    "  q_min = np.min(data.iloc[:52608,2])\n",
    "  data_scaled = scaler.transform(data)\n",
    "\n",
    "  # data split\n",
    "  data_sequence = series_to_supervised(data_scaled, hours_of_history, hours_to_predict)\n",
    "  data_train, data_valid, data_test = train_valid_test_split(data_sequence, hours_of_history, hours_to_predict, parameters_included)\n",
    "\n",
    "  # Split data into 2 parts for encoder (history) and decoder(future).\n",
    "  train_x_rainfall = data_train[:,0::3].reshape(-1, hours_of_history+hours_to_predict, 1)\n",
    "  train_discharge = data_train[:,2::3].reshape(-1, hours_of_history+hours_to_predict, 1)\n",
    "  train_x_discharge = train_discharge[:,:hours_of_history,:]\n",
    "  train_y = train_discharge[:,hours_of_history:,:]\n",
    "  train_x_et = data_train[:,3*hours_of_history+1].reshape(-1, 1) # the current hour et\n",
    "\n",
    "  valid_x_rainfall = data_valid[:,0::3].reshape(-1, hours_of_history+hours_to_predict, 1)\n",
    "  valid_discharge = data_valid[:,2::3].reshape(-1, hours_of_history+hours_to_predict, 1)\n",
    "  valid_x_discharge = valid_discharge[:,:hours_of_history,:]\n",
    "  valid_y = valid_discharge[:,hours_of_history:,:]\n",
    "  valid_x_et = data_valid[:,3*hours_of_history+1].reshape(-1, 1) # the current hour et\n",
    "\n",
    "  test_x_rainfall = data_test[:,0::3].reshape(-1, hours_of_history+hours_to_predict, 1)\n",
    "  test_discharge = data_test[:,2::3].reshape(-1, hours_of_history+hours_to_predict, 1)\n",
    "  test_x_discharge = test_discharge[:,:hours_of_history,:]\n",
    "  test_y = test_discharge[:,hours_of_history:,:]\n",
    "  test_x_et = data_test[:,3*hours_of_history+1].reshape(-1, 1) # the current hour et\n",
    "\n",
    "  return [train_x_et, train_x_discharge, train_x_rainfall], train_y, [valid_x_et, valid_x_discharge, valid_x_rainfall], valid_y, [test_x_et, test_x_discharge, test_x_rainfall], test_y, q_max, q_min"
   ]
  },
  {
   "cell_type": "code",
   "execution_count": 5,
   "metadata": {},
   "outputs": [],
   "source": [
    "# define custome loss function (you can use the simple 'mse' as well)\n",
    "def nseloss(y_true, y_pred):\n",
    "  return K.sum((y_pred-y_true)**2)/K.sum((y_true-K.mean(y_true))**2)"
   ]
  },
  {
   "cell_type": "code",
   "execution_count": 6,
   "metadata": {},
   "outputs": [],
   "source": [
    "def EDLSTM(hours_of_history, hours_to_predict, parameters_included):\n",
    "\n",
    "  # design network\n",
    "  # input of runoff observation, LSTM encoder\n",
    "  input_1 = Input(shape=(hours_of_history, 1), name='LSTM1_input') # shape should be 72*1 for runoff observation\n",
    "  LSTM1 = LSTM(256, return_sequences=False)(input_1)\n",
    "\n",
    "  # input of rainfall observation and forecast, LSTM encoder\n",
    "  input_2 = Input(shape=((hours_of_history+hours_to_predict), 1), name='LSTM2_input') # shape should be (72+24)*n=96*n, for rainfall observation (72) and predictions (24) for rainfall and additional stations (if there is no upstream station, n=1)\n",
    "  LSTM2 = LSTM(256, return_sequences=False)(input_2)\n",
    "\n",
    "  # input of other non-timeseries data, such as daily or monthly data.\n",
    "  input_phys = Input(shape=(1,), name='phys_input') # one single value of ET. shape = 1.\n",
    "\n",
    "  # connect all data\n",
    "  x = concatenate([input_phys, LSTM1, LSTM2]) # Get state vector.\n",
    "  x = RepeatVector(hours_to_predict)(x) # 24 is the output time dimension\n",
    "\n",
    "  # LSTM decoder\n",
    "  x = LSTM(512, return_sequences=True)(x)\n",
    "\n",
    "  # define fully-connected dense layers\n",
    "  dim_dense=[512, 256, 256, 128, 64]\n",
    "\n",
    "  # final fully-connected dense layer for final result\n",
    "  for dim in dim_dense:\n",
    "    x = TimeDistributed(Dense(dim, activation='relu'))(x)\n",
    "    x = TimeDistributed(Dropout(0.2))(x) # Some dropout for dense layers. Some paper mentioned that it is not recommend to have dropout between the RNN/LSTM/GRU layers. Thus, I only apply dropout in the dense layer.\n",
    "  main_out = TimeDistributed(Dense(1, activation='relu'))(x) # here relu provides the final output non-negative, which is corrosponding to my min-max pre-prossing.\n",
    "  main_out = Flatten()(main_out)\n",
    "\n",
    "  model = Model(inputs=[input_phys, input_1, input_2], outputs=main_out)\n",
    "  \n",
    "  return model"
   ]
  },
  {
   "cell_type": "code",
   "execution_count": 7,
   "metadata": {},
   "outputs": [],
   "source": [
    "# identify KGE, NSE for evaluation\n",
    "def nse(y_true, y_pred):\n",
    "  return 1-np.sum((y_pred-y_true)**2)/np.sum((y_true-np.mean(y_true))**2)\n",
    "  \n",
    "def kge(y_true, y_pred):\n",
    "  kge_r = np.corrcoef(y_true,y_pred)[1][0]\n",
    "  kge_a = np.std(y_pred)/np.std(y_true)\n",
    "  kge_b = np.mean(y_pred)/np.mean(y_true)\n",
    "  return 1-np.sqrt((kge_r-1)**2+(kge_a-1)**2+(kge_b-1)**2)\n"
   ]
  },
  {
   "cell_type": "code",
   "execution_count": 8,
   "metadata": {},
   "outputs": [],
   "source": [
    "def main():\n",
    "  \n",
    "  # parameters\n",
    "  station_id = 521\n",
    "  hours_to_predict = 24\n",
    "  hours_of_history = 72\n",
    "  parameters_included = 3\n",
    "\n",
    "  batch_size = 64\n",
    "  lr = 0.0001\n",
    "  epochs = 30\n",
    "  test_name = './'+str(station_id)+'_model1_'\n",
    "\n",
    "  # load data\n",
    "  x_train, y_train, x_valid, y_valid, x_test, y_test, q_max, q_min = prepare_data(station_id, hours_of_history, hours_to_predict, parameters_included)\n",
    "  model1 = EDLSTM(hours_of_history, hours_to_predict, parameters_included)\n",
    "\n",
    "  # compile settings\n",
    "  reduce_lr = ReduceLROnPlateau(monitor='val_loss', factor=0.3, patience=15, cooldown=30, min_lr=1e-8)\n",
    "  earlystoping = EarlyStopping(monitor='val_loss', min_delta=0, patience=20, verbose=1, mode='auto')\n",
    "  checkpoint = ModelCheckpoint(test_name+'model.h5', monitor='val_loss', verbose=1, save_best_only=True, mode='min')\n",
    "  optimizer = RMSprop(lr==lr)\n",
    "  \n",
    "  model1.compile(optimizer=optimizer, loss=nseloss) # I used the build-in RMSprop, loss function is 1-NSE. You can use 'mse', 'mae' as well.\n",
    "\n",
    "  if tf.test.gpu_device_name() != '/device:GPU:0':\n",
    "    print('WARNING: GPU device not found.')\n",
    "  else:\n",
    "    print('SUCCESS: Found GPU: {}'.format(tf.test.gpu_device_name()))\n",
    "\n",
    "\n",
    "  # train model\n",
    "  history = model1.fit(x_train, y_train, epochs=epochs, batch_size=batch_size,\n",
    "              validation_data=(x_valid, y_valid), callbacks=[reduce_lr, earlystoping, checkpoint], verbose=1)\n",
    "\n",
    "  # save training loss\n",
    "  loss_train = history.history['loss']\n",
    "  loss_valid = history.history['val_loss']\n",
    "  loss_train = pd.DataFrame({'TrainLoss':loss_train})\n",
    "  loss_valid = pd.DataFrame({'TestLoss':loss_valid})\n",
    "  LossEpoches = pd.concat([loss_train, loss_valid], axis=1)\n",
    "  LossEpoches.to_csv(test_name+'loss.csv', index = True)\n",
    "\n",
    "  # Final Test Review\n",
    "  model1.load_weights(test_name+'model.h5')\n",
    "\n",
    "  y_model_scaled = model1.predict(x_test)\n",
    "  y_model = y_model_scaled*(q_max-q_min)+q_min\n",
    "  y_test = y_test*(q_max-q_min)+q_min\n",
    "\n",
    "  # hourly evaluation\n",
    "  NSEs=[]\n",
    "  KGEs=[]\n",
    "  for x in range(0, 24):\n",
    "    y_pred = y_model[:,x]\n",
    "    y_True = y_test[:,x]\n",
    "    NSEs.append(nse(y_True[:,0],y_pred))\n",
    "    KGEs.append(kge(y_True[:,0],y_pred))  \n",
    "    \n",
    "  NSEs=pd.DataFrame(NSEs)\n",
    "  NSEs.columns = ['NSE_Test']\n",
    "  KGEs=pd.DataFrame(KGEs)\n",
    "  KGEs.columns = ['KGE_Test']\n",
    "    \n",
    "  eva = pd.concat([NSEs, KGEs], axis=1)\n",
    "  eva.to_csv(test_name+'eva.csv', index = True)\n"
   ]
  },
  {
   "cell_type": "code",
   "execution_count": 9,
   "metadata": {},
   "outputs": [
    {
     "name": "stdout",
     "output_type": "stream",
     "text": [
      "['/device:CPU:0']\n"
     ]
    }
   ],
   "source": [
    "from tensorflow.python.client import device_lib\n",
    "def get_available_devices():\n",
    "    local_device_protos = device_lib.list_local_devices()\n",
    "    return [x.name for x in local_device_protos]\n",
    "print(get_available_devices()) "
   ]
  },
  {
   "cell_type": "code",
   "execution_count": null,
   "metadata": {},
   "outputs": [],
   "source": [
    "if __name__ == \"__main__\":\n",
    "  main()"
   ]
  }
 ],
 "metadata": {
  "kernelspec": {
   "display_name": "Python 3.7.12 ('tf')",
   "language": "python",
   "name": "python3"
  },
  "language_info": {
   "codemirror_mode": {
    "name": "ipython",
    "version": 3
   },
   "file_extension": ".py",
   "mimetype": "text/x-python",
   "name": "python",
   "nbconvert_exporter": "python",
   "pygments_lexer": "ipython3",
   "version": "3.7.12"
  },
  "orig_nbformat": 4,
  "vscode": {
   "interpreter": {
    "hash": "fb522dc2b8f7f60c6583961f93a03788391a9c83d12431be8970f451873ef5bf"
   }
  }
 },
 "nbformat": 4,
 "nbformat_minor": 2
}
